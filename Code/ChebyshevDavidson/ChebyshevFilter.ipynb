{
 "cells": [
  {
   "cell_type": "markdown",
   "metadata": {},
   "source": [
    "Algorithm 3.1. [y] = Chebyshev filter(x, m, a, b, a0).\r\n",
    "Purpose: Filter x by an m degree Chebyshev polynomial which dampens on [a, b].\r\n",
    "1. e = (b − a)/2; c = (b + a)/2;\r\n",
    "2. σ = e/(a0 − c); σ1 = σ;\r\n",
    "3. y = (Ax − cx)σ1/e;\r\n",
    "4. For i = 2 : m\r\n",
    "5.  {new} σ_new = 1 / (2/σ1−σ);\r\n",
    "6.      ynew = 2(Ay − cy)σnew/e − σσnewx;\r\n",
    "7.      x = y; y = ynew; σ = σnew;\r\n",
    "8. End For"
   ]
  },
  {
   "cell_type": "raw",
   "metadata": {},
   "source": [
    "Algorithm 4.1. Chebyshev-Davidson method\n",
    "(computing kwant number of smallest eigenpairs)\n",
    "Input: x–initial vector; m–polynomial degree; kkeep–# of vectors to keep during\n",
    "restart; dimmax–maximum subspace dimension; tau–convergence tolerance.\n",
    "Output: converged eigenvalues eval(1 : kc) (in non-increasing order) and their\n",
    "corresponding eigenvectors V (:, 1 : kc), where kc denotes # of converged eigenpairs.\n",
    "(a) Start with the unit vector x, V = [x].\n",
    "(b) Compute W = [Ax], H = [μ] where μ = xTw.\n",
    "(c) Compute the residual vector: r = W(:, 1) − μx.\n",
    "(d) If norm(r) <= tau, set eval(1) = μ, kc = 1, H = [ ]; Else, set kc = 0.\n",
    "(e) Estimate the upper bound (upperb) of eigenvalues.\n",
    "(f ) Set lowerb = (upperb + μ)/2, a0 = lowerb.\n",
    "(g) Set ksub = 1 (ksub stores the current subspace dimension).\n",
    "(h) Outer Loop: Do while ( iter ≤ itermax )\n",
    "    1. Call the Chebyshev polynomial filter:\n",
    "        [t] = Chebyshev filter(x,m, lowerb, upperb, a0).\n",
    "    2. Orthonormalize t against V (:, 1 : ksub) to get a unit vector V (:, ksub + 1);\n",
    "        set ksub ← ksub + 1; set kold ← ksub.\n",
    "    3. Compute W(:, ksub) = AV (:, ksub).\n",
    "    4. Compute the last column of the symmetric Rayleigh-Quotient matrix H:\n",
    "        H(1 : ksub − kc, ksub − kc) = V (:, kc + 1 : ksub)TW(:, ksub).\n",
    "    5. Compute the eigen-decomposition of H: HY = Y D,\n",
    "        where diag(D) is in non-increasing order. Set μ = D(1, 1).\n",
    "    6. If (ksub ≥ dimmax) then restart: set ksub = kc + kkeep.\n",
    "    7. Update basis: V (:, kc + 1 : ksub) ← V (:, kc + 1 : kold)Y (:, 1 : ksub − kc);\n",
    "        update W: W(:, kc + 1 : ksub) ← W(:, kc + 1 : kold)Y (:, 1 : ksub − kc).\n",
    "    8. Compute the residual vector: r = W(:, kc + 1) − μV (:, kc + 1).\n",
    "    9. Set noswap = 0, iter ← iter + 1.\n",
    "    10. Test for convergence: If norm(r) <= tau * max(diag(D)), set kc = kc + 1,\n",
    "        set eval(kc) = μ; also swap eigenpairs if necessary (see Comment v)\n",
    "        so that converged eigenvalues are in non-increasing order;\n",
    "        set noswap = 1 if any swap happens.\n",
    "    11. If (kc ≥ kwant and noswap == 0), Return eval(1 : kc) and V (:, 1 : kc)\n",
    "        as the converged wanted eigenpairs. Exit.\n",
    "    12. Update lower bounds: lowerb = median(diag(D));\n",
    "        If a0 > min(diag(D)), set a0 ← min(diag(D)).\n",
    "    13. Set the next Ritz vector for filtering: x = V (:, kc + 1).\n",
    "    14. Update H: H = D(kc + 1 : ksub, kc + 1 : ksub)."
   ]
  },
  {
   "cell_type": "code",
   "execution_count": 28,
   "metadata": {},
   "outputs": [],
   "source": [
    "import numpy as np\n",
    "import scipy as sp\n",
    "import scipy.linalg as linalg\n",
    "import numpy.matlib as ml"
   ]
  },
  {
   "cell_type": "code",
   "execution_count": 52,
   "metadata": {},
   "outputs": [],
   "source": [
    "A = np.array([[1,0,0,0,0,0],\n",
    "     [0,2,0,0,0,0],\n",
    "     [0,0,3,0,0,0],\n",
    "     [0,0,0,4,0,0],\n",
    "     [0,0,0,0,5,0],\n",
    "     [0,0,0,0,0,6],\n",
    "    ])\n",
    "x = np.array([[0.3804],\n",
    "              [0.5678],\n",
    "              [0.0759],\n",
    "              [0.0540],\n",
    "              [0.5308],\n",
    "              [0.7792]\n",
    "    ])\n",
    "\n",
    "m = 4\n",
    "a = 2.5\n",
    "b = 5.5\n",
    "a0 = 1\n",
    "expected =  [ [0.3804], [0.07060463], [-0.00076315], [0.0005567], [-0.00533705], [0.09689174]]"
   ]
  },
  {
   "cell_type": "code",
   "execution_count": 53,
   "metadata": {},
   "outputs": [
    {
     "name": "stdout",
     "output_type": "stream",
     "text": [
      "True\n"
     ]
    }
   ],
   "source": [
    "def chebyshev_filter(A, x,m,a,b,a0):\n",
    "    e = (b - a)/2\n",
    "    c = (b + a)/2\n",
    "    sigma = e/(a0 - c)\n",
    "    sigma_1 = sigma;\n",
    "    y = (np.dot(A,x) - c*x)*sigma_1/e\n",
    "    for i in range (1,m):\n",
    "        sig_new = 1 / (2/sigma_1 - sigma)\n",
    "        y_new = 2*(np.dot(A,y) - c*y)*sig_new/e - sigma*sig_new*x\n",
    "        x = y\n",
    "        y = y_new\n",
    "        sigma = sig_new;\n",
    "    return y\n",
    "\n",
    "chebyshev_filter_out = chebyshev_filter(A, x,m,a,b,a0)\n",
    "print(all(abs(chebyshev_filter_out - expected) < 1e-5))"
   ]
  },
  {
   "cell_type": "code",
   "execution_count": 56,
   "metadata": {},
   "outputs": [
    {
     "data": {
      "text/plain": [
       "array([[0.3804],\n",
       "       [0.5678],\n",
       "       [0.0759],\n",
       "       [0.054 ],\n",
       "       [0.5308],\n",
       "       [0.7792]])"
      ]
     },
     "metadata": {},
     "output_type": "display_data"
    },
    {
     "data": {
      "text/plain": [
       "(6, 1)"
      ]
     },
     "metadata": {},
     "output_type": "display_data"
    },
    {
     "data": {
      "text/plain": [
       "array([[0.3804, 0.5678, 0.0759, 0.054 , 0.5308, 0.7792]])"
      ]
     },
     "metadata": {},
     "output_type": "display_data"
    },
    {
     "data": {
      "text/plain": [
       "(1, 6)"
      ]
     },
     "metadata": {},
     "output_type": "display_data"
    },
    {
     "data": {
      "text/plain": [
       "array([[1, 0, 0, 0, 0, 0],\n",
       "       [1, 0, 0, 0, 0, 0],\n",
       "       [1, 0, 0, 0, 0, 0],\n",
       "       [1, 0, 0, 0, 0, 0],\n",
       "       [1, 0, 0, 0, 0, 0],\n",
       "       [1, 0, 0, 0, 0, 0]])"
      ]
     },
     "metadata": {},
     "output_type": "display_data"
    },
    {
     "data": {
      "text/plain": [
       "array([[1, 1, 1, 1, 1, 1],\n",
       "       [0, 0, 0, 0, 0, 0],\n",
       "       [0, 0, 0, 0, 0, 0],\n",
       "       [0, 0, 0, 0, 0, 0],\n",
       "       [0, 0, 0, 0, 0, 0],\n",
       "       [0, 0, 0, 0, 0, 0]])"
      ]
     },
     "metadata": {},
     "output_type": "display_data"
    },
    {
     "data": {
      "text/plain": [
       "array([[0.3804],\n",
       "       [0.3804],\n",
       "       [0.3804],\n",
       "       [0.3804],\n",
       "       [0.3804],\n",
       "       [0.3804]])"
      ]
     },
     "metadata": {},
     "output_type": "display_data"
    },
    {
     "data": {
      "text/plain": [
       "array([[2.3881, 0.    , 0.    , 0.    , 0.    , 0.    ]])"
      ]
     },
     "metadata": {},
     "output_type": "display_data"
    }
   ],
   "source": [
    "B = np.array([[1,0,0,0,0,0],[1,0,0,0,0,0],[1,0,0,0,0,0],[1,0,0,0,0,0],[1,0,0,0,0,0],[1,0,0,0,0,0]])\n",
    "display(x, x.shape)\n",
    "display(x.T, x.T.shape)\n",
    "display(B)\n",
    "display(B.T)\n",
    "display(np.dot(B,x))\n",
    "display(np.dot(x.T,B))"
   ]
  },
  {
   "cell_type": "code",
   "execution_count": 89,
   "metadata": {},
   "outputs": [],
   "source": [
    "def cheby_dav_eigh(A, x_vec, m, k_keep, dim_max, tol):\n",
    "    eig_val = []\n",
    "    k_c = 0\n",
    "    iter_max = 100000\n",
    "\n",
    "    x = x_vec/la.norm(x_vec)\n",
    "    V = np.array([x])\n",
    "    w = np.dot(A,x)\n",
    "    W=np.array(w)\n",
    "    \n",
    "    mu = np.dot(x.T,w)[0,0]\n",
    "    H=np.array([mu])\n",
    "    \n",
    "    r = W[:,0] - mu*x\n",
    "    \n",
    "    if la.norm(r) <= tol:\n",
    "        eig_val[0] = mu\n",
    "        k_c = 1\n",
    "        H = np.array([])\n",
    "    else:\n",
    "        kc= 0\n",
    "        \n",
    "    #TODO: esimate upper bound of eigenvalues\n",
    "    upperb = 10\n",
    "    lowerb = (upperb+mu)/2\n",
    "    a0 = lowerb\n",
    "    \n",
    "    k_sub = 1\n",
    "    iter = 0\n",
    "    while iter <= iter_max:\n",
    "        iter+=1\n",
    "        t = chebyshev_filter(A, x, m, lowerb, upperb, a0)\n",
    "        \n",
    "        #orthogonalize t against first k_sub columns of V by householder\n",
    "        \n",
    "        \n",
    "        \n",
    "        \n",
    "x_vec = x\n",
    "tol = 1e-12\n",
    "cheby_dav_eigh(A, x_vec, m, 2, 5, tol)"
   ]
  },
  {
   "cell_type": "code",
   "execution_count": 84,
   "metadata": {},
   "outputs": [],
   "source": [
    "    \n"
   ]
  },
  {
   "cell_type": "code",
   "execution_count": 85,
   "metadata": {},
   "outputs": [
    {
     "data": {
      "text/plain": [
       "array([[0.32563062],\n",
       "       [0.97209815],\n",
       "       [0.19491612],\n",
       "       [0.18490067],\n",
       "       [2.27188137],\n",
       "       [4.00207226]])"
      ]
     },
     "execution_count": 85,
     "metadata": {},
     "output_type": "execute_result"
    }
   ],
   "source": [
    "w"
   ]
  },
  {
   "cell_type": "code",
   "execution_count": 86,
   "metadata": {},
   "outputs": [
    {
     "data": {
      "text/plain": [
       "4.301453252280725"
      ]
     },
     "execution_count": 86,
     "metadata": {},
     "output_type": "execute_result"
    }
   ],
   "source": [
    "mu"
   ]
  },
  {
   "cell_type": "code",
   "execution_count": 78,
   "metadata": {},
   "outputs": [
    {
     "data": {
      "text/plain": [
       "array([0.32563062, 0.97209815, 0.19491612, 0.18490067, 2.27188137,\n",
       "       4.00207226])"
      ]
     },
     "execution_count": 78,
     "metadata": {},
     "output_type": "execute_result"
    }
   ],
   "source": [
    "W[:,0]"
   ]
  },
  {
   "cell_type": "code",
   "execution_count": 79,
   "metadata": {},
   "outputs": [
    {
     "data": {
      "text/plain": [
       "array([[-1.07505428, -0.42858675, -1.20576878, -1.21578423,  0.87119647,\n",
       "         2.60138736],\n",
       "       [-1.76508675, -1.11861922, -1.89580125, -1.9058167 ,  0.181164  ,\n",
       "         1.91135489],\n",
       "       [ 0.04615643,  0.69262395, -0.08455807, -0.09457353,  1.99240717,\n",
       "         3.72259806],\n",
       "       [ 0.12679523,  0.77326275, -0.00391927, -0.01393473,  2.07304597,\n",
       "         3.80323686],\n",
       "       [-1.62884768, -0.98238015, -1.75956218, -1.76957763,  0.31740307,\n",
       "         2.04759396],\n",
       "       [-2.5434905 , -1.89702297, -2.674205  , -2.68422045, -0.59723975,\n",
       "         1.13295114]])"
      ]
     },
     "execution_count": 79,
     "metadata": {},
     "output_type": "execute_result"
    }
   ],
   "source": [
    "r"
   ]
  },
  {
   "cell_type": "code",
   "execution_count": null,
   "metadata": {},
   "outputs": [],
   "source": []
  }
 ],
 "metadata": {
  "kernelspec": {
   "display_name": "Python 3",
   "language": "python",
   "name": "python3"
  },
  "language_info": {
   "codemirror_mode": {
    "name": "ipython",
    "version": 3
   },
   "file_extension": ".py",
   "mimetype": "text/x-python",
   "name": "python",
   "nbconvert_exporter": "python",
   "pygments_lexer": "ipython3",
   "version": "3.7.3"
  }
 },
 "nbformat": 4,
 "nbformat_minor": 4
}
