{
 "cells": [
  {
   "cell_type": "raw",
   "metadata": {},
   "source": [
    "Algorithm 3.1. [y] = Chebyshev filter(x, m, a, b, a0).\r\n",
    "Purpose: Filter x by an m degree Chebyshev polynomial which dampens on [a, b].\r\n",
    "1. e = (b − a)/2; c = (b + a)/2;\r\n",
    "2. σ = e/(a0 − c); σ1 = σ;\r\n",
    "3. y = (Ax − cx)σ1/e;\r\n",
    "4. For i = 2 : m\r\n",
    "5.  {new} σ_new = 1 / (2/σ1−σ);\r\n",
    "6.      ynew = 2(Ay − cy)σnew/e − σσnewx;\r\n",
    "7.      x = y; y = ynew; σ = σnew;\r\n",
    "8. End For"
   ]
  },
  {
   "cell_type": "raw",
   "metadata": {},
   "source": [
    "Algorithm 4.1. Chebyshev-Davidson method\n",
    "(computing kwant number of smallest eigenpairs)\n",
    "Input: x–initial vector; m–polynomial degree; kkeep–# of vectors to keep during\n",
    "restart; dimmax–maximum subspace dimension; tau–convergence tolerance.\n",
    "Output: converged eigenvalues eval(1 : kc) (in non-increasing order) and their\n",
    "corresponding eigenvectors V (:, 1 : kc), where kc denotes # of converged eigenpairs.\n",
    "(a) Start with the unit vector x, V = [x].\n",
    "(b) Compute W = [Ax], H = [μ] where μ = xTw.\n",
    "(c) Compute the residual vector: r = W(:, 1) − μx.\n",
    "(d) If norm(r) <= tau, set eval(1) = μ, kc = 1, H = [ ]; Else, set kc = 0.\n",
    "(e) Estimate the upper bound (upperb) of eigenvalues.\n",
    "(f ) Set lowerb = (upperb + μ)/2, a0 = lowerb.\n",
    "(g) Set ksub = 1 (ksub stores the current subspace dimension).\n",
    "(h) Outer Loop: Do while ( iter ≤ itermax )\n",
    "    1. Call the Chebyshev polynomial filter:\n",
    "        [t] = Chebyshev filter(x,m, lowerb, upperb, a0).\n",
    "    2. Orthonormalize t against V (:, 1 : ksub) to get a unit vector V (:, ksub + 1);\n",
    "        set ksub ← ksub + 1; set kold ← ksub.\n",
    "    3. Compute W(:, ksub) = AV (:, ksub).\n",
    "    4. Compute the last column of the symmetric Rayleigh-Quotient matrix H:\n",
    "        H(1 : ksub − kc, ksub − kc) = V (:, kc + 1 : ksub)TW(:, ksub).\n",
    "    5. Compute the eigen-decomposition of H: HY = Y D,\n",
    "        where diag(D) is in non-increasing order. Set μ = D(1, 1).\n",
    "    6. If (ksub ≥ dimmax) then restart: set ksub = kc + kkeep.\n",
    "    7. Update basis: V (:, kc + 1 : ksub) ← V (:, kc + 1 : kold)Y (:, 1 : ksub − kc);\n",
    "        update W: W(:, kc + 1 : ksub) ← W(:, kc + 1 : kold)Y (:, 1 : ksub − kc).\n",
    "    8. Compute the residual vector: r = W(:, kc + 1) − μV (:, kc + 1).\n",
    "    9. Set noswap = 0, iter ← iter + 1.\n",
    "    10. Test for convergence: If norm(r) <= tau * max(diag(D)), set kc = kc + 1,\n",
    "        set eval(kc) = μ; also swap eigenpairs if necessary (see Comment v)\n",
    "        so that converged eigenvalues are in non-increasing order;\n",
    "        set noswap = 1 if any swap happens.\n",
    "    11. If (kc ≥ kwant and noswap == 0), Return eval(1 : kc) and V (:, 1 : kc)\n",
    "        as the converged wanted eigenpairs. Exit.\n",
    "    12. Update lower bounds: lowerb = median(diag(D));\n",
    "        If a0 > min(diag(D)), set a0 ← min(diag(D)).\n",
    "    13. Set the next Ritz vector for filtering: x = V (:, kc + 1).\n",
    "    14. Update H: H = D(kc + 1 : ksub, kc + 1 : ksub)."
   ]
  },
  {
   "cell_type": "code",
   "execution_count": 2,
   "metadata": {},
   "outputs": [],
   "source": [
    "import numpy as np\n",
    "import scipy as sp\n",
    "import scipy.linalg as la\n",
    "import numpy.matlib as ml"
   ]
  },
  {
   "cell_type": "code",
   "execution_count": 3,
   "metadata": {},
   "outputs": [],
   "source": [
    "A = np.array([[1,0,0,0,0,0],\n",
    "     [0,2,0,0,0,0],\n",
    "     [0,0,3,0,0,0],\n",
    "     [0,0,0,4,0,0],\n",
    "     [0,0,0,0,5,0],\n",
    "     [0,0,0,0,0,6],\n",
    "    ])\n",
    "x = np.array([[0.3804],\n",
    "              [0.5678],\n",
    "              [0.0759],\n",
    "              [0.0540],\n",
    "              [0.5308],\n",
    "              [0.7792]\n",
    "    ])\n",
    "\n",
    "m = 4\n",
    "a = 2.5\n",
    "b = 5.5\n",
    "a0 = 1\n",
    "expected =  [ [0.3804], [0.07060463], [-0.00076315], [0.0005567], [-0.00533705], [0.09689174]]"
   ]
  },
  {
   "cell_type": "code",
   "execution_count": 4,
   "metadata": {},
   "outputs": [
    {
     "name": "stdout",
     "output_type": "stream",
     "text": [
      "True\n"
     ]
    }
   ],
   "source": [
    "def chebyshev_filter(A, x,m,a,b,a0):\n",
    "    e = (b - a)/2\n",
    "    c = (b + a)/2\n",
    "    sigma = e/(a0 - c)\n",
    "    sigma_1 = sigma;\n",
    "    y = (np.dot(A,x) - c*x)*sigma_1/e\n",
    "    for i in range (1,m):\n",
    "        sig_new = 1 / (2/sigma_1 - sigma)\n",
    "        y_new = 2*(np.dot(A,y) - c*y)*sig_new/e - sigma*sig_new*x\n",
    "        x = y\n",
    "        y = y_new\n",
    "        sigma = sig_new;\n",
    "    return y\n",
    "\n",
    "chebyshev_filter_out = chebyshev_filter(A, x,m,a,b,a0)\n",
    "print(all(abs(chebyshev_filter_out - expected) < 1e-5))"
   ]
  },
  {
   "cell_type": "code",
   "execution_count": 53,
   "metadata": {},
   "outputs": [
    {
     "data": {
      "text/plain": [
       "array([[0.3804],\n",
       "       [0.5678],\n",
       "       [0.0759],\n",
       "       [0.054 ],\n",
       "       [0.5308],\n",
       "       [0.7792]])"
      ]
     },
     "metadata": {},
     "output_type": "display_data"
    },
    {
     "data": {
      "text/plain": [
       "(6, 1)"
      ]
     },
     "metadata": {},
     "output_type": "display_data"
    },
    {
     "data": {
      "text/plain": [
       "array([[0.3804, 0.5678, 0.0759, 0.054 , 0.5308, 0.7792]])"
      ]
     },
     "metadata": {},
     "output_type": "display_data"
    },
    {
     "data": {
      "text/plain": [
       "(1, 6)"
      ]
     },
     "metadata": {},
     "output_type": "display_data"
    },
    {
     "data": {
      "text/plain": [
       "array([[1, 0, 0, 0, 0, 0],\n",
       "       [1, 0, 0, 0, 0, 0],\n",
       "       [1, 0, 0, 0, 0, 0],\n",
       "       [1, 0, 0, 0, 0, 0],\n",
       "       [1, 0, 0, 0, 0, 0],\n",
       "       [1, 0, 0, 0, 0, 0]])"
      ]
     },
     "metadata": {},
     "output_type": "display_data"
    },
    {
     "data": {
      "text/plain": [
       "array([[1, 1, 1, 1, 1, 1],\n",
       "       [0, 0, 0, 0, 0, 0],\n",
       "       [0, 0, 0, 0, 0, 0],\n",
       "       [0, 0, 0, 0, 0, 0],\n",
       "       [0, 0, 0, 0, 0, 0],\n",
       "       [0, 0, 0, 0, 0, 0]])"
      ]
     },
     "metadata": {},
     "output_type": "display_data"
    },
    {
     "data": {
      "text/plain": [
       "array([1, 0, 0, 0, 0, 0])"
      ]
     },
     "metadata": {},
     "output_type": "display_data"
    },
    {
     "data": {
      "text/plain": [
       "array([[0.3804],\n",
       "       [0.3804],\n",
       "       [0.3804],\n",
       "       [0.3804],\n",
       "       [0.3804],\n",
       "       [0.3804]])"
      ]
     },
     "metadata": {},
     "output_type": "display_data"
    },
    {
     "data": {
      "text/plain": [
       "array([[2.3881, 0.    , 0.    , 0.    , 0.    , 0.    ]])"
      ]
     },
     "metadata": {},
     "output_type": "display_data"
    }
   ],
   "source": [
    "B = np.array([[1,0,0,0,0,0],[1,0,0,0,0,0],[1,0,0,0,0,0],[1,0,0,0,0,0],[1,0,0,0,0,0],[1,0,0,0,0,0]])\n",
    "display(x, x.shape)\n",
    "display(x.T, x.T.shape)\n",
    "display(B)\n",
    "display(B.T)\n",
    "display(B[0,:])\n",
    "display(np.dot(B,x))\n",
    "display(np.dot(x.T,B))"
   ]
  },
  {
   "cell_type": "code",
   "execution_count": 79,
   "metadata": {},
   "outputs": [
    {
     "name": "stdout",
     "output_type": "stream",
     "text": [
      "[[4.33897328 1.07134615 0.         0.         0.         0.        ]\n",
      " [0.         1.44814798 0.         0.         0.         0.        ]\n",
      " [0.         0.         0.         0.         0.         0.        ]\n",
      " [0.         0.         0.         0.         0.         0.        ]\n",
      " [0.         0.         0.         0.         0.         0.        ]\n",
      " [0.         0.         0.         0.         0.         0.        ]]\n",
      "[[4.33897328 1.07134615 0.         0.         0.         0.        ]\n",
      " [1.07134615 1.44814798 0.         0.         0.         0.        ]\n",
      " [0.         0.         0.         0.         0.         0.        ]\n",
      " [0.         0.         0.         0.         0.         0.        ]\n",
      " [0.         0.         0.         0.         0.         0.        ]\n",
      " [0.         0.         0.         0.         0.         0.        ]]\n",
      "[[ 4.33897328  1.07134615 -1.89545066  0.          0.          0.        ]\n",
      " [ 1.07134615  1.44814798  0.96793031  0.          0.          0.        ]\n",
      " [ 0.          0.          2.61838448  0.          0.          0.        ]\n",
      " [ 0.          0.          0.          0.          0.          0.        ]\n",
      " [ 0.          0.          0.          0.          0.          0.        ]\n",
      " [ 0.          0.          0.          0.          0.          0.        ]]\n",
      "[[ 4.33897328  1.07134615 -1.89545066  0.          0.          0.        ]\n",
      " [ 1.07134615  1.44814798  0.96793031  0.          0.          0.        ]\n",
      " [-1.89545066  0.96793031  2.61838448  0.          0.          0.        ]\n",
      " [ 0.          0.          0.          0.          0.          0.        ]\n",
      " [ 0.          0.          0.          0.          0.          0.        ]\n",
      " [ 0.          0.          0.          0.          0.          0.        ]]\n",
      "[[ 4.33897328  1.07134615 -1.89545066 -4.61211879  0.          0.        ]\n",
      " [ 1.07134615  1.44814798  0.96793031 -0.32403107  0.          0.        ]\n",
      " [-1.89545066  0.96793031  2.61838448  3.03063506  0.          0.        ]\n",
      " [ 0.          0.          0.          5.50920979  0.          0.        ]\n",
      " [ 0.          0.          0.          0.          0.          0.        ]\n",
      " [ 0.          0.          0.          0.          0.          0.        ]]\n",
      "[[ 4.33897328  1.07134615 -1.89545066 -4.61211879  0.          0.        ]\n",
      " [ 1.07134615  1.44814798  0.96793031 -0.32403107  0.          0.        ]\n",
      " [-1.89545066  0.96793031  2.61838448  3.03063506  0.          0.        ]\n",
      " [-4.61211879 -0.32403107  3.03063506  5.50920979  0.          0.        ]\n",
      " [ 0.          0.          0.          0.          0.          0.        ]\n",
      " [ 0.          0.          0.          0.          0.          0.        ]]\n",
      "[[ 4.33897328  1.07134615 -1.89545066 -4.61211879 -4.33897328  0.        ]\n",
      " [ 1.07134615  1.44814798  0.96793031 -0.32403107 -1.1248287   0.        ]\n",
      " [-1.89545066  0.96793031  2.61838448  3.03063506  1.82876716  0.        ]\n",
      " [-4.61211879 -0.32403107  3.03063506  5.50920979  4.57229033  0.        ]\n",
      " [ 0.          0.          0.          0.          4.33897328  0.        ]\n",
      " [ 0.          0.          0.          0.          0.          0.        ]]\n",
      "[[ 4.33897328  1.07134615 -1.89545066 -4.61211879 -4.33897328  0.        ]\n",
      " [ 1.07134615  1.44814798  0.96793031 -0.32403107 -1.1248287   0.        ]\n",
      " [-1.89545066  0.96793031  2.61838448  3.03063506  1.82876716  0.        ]\n",
      " [-4.61211879 -0.32403107  3.03063506  5.50920979  4.57229033  0.        ]\n",
      " [-4.33897328 -1.1248287   1.82876716  4.57229033  4.33897328  0.        ]\n",
      " [ 0.          0.          0.          0.          0.          0.        ]]\n",
      "[[ 4.33897328  1.07134615 -1.89545066 -4.61211879 -4.33897328 -1.07134615]\n",
      " [ 1.07134615  1.44814798  0.96793031 -0.32403107 -1.1248287  -1.44814798]\n",
      " [-1.89545066  0.96793031  2.61838448  3.03063506  1.82876716 -1.00775878]\n",
      " [-4.61211879 -0.32403107  3.03063506  5.50920979  4.57229033  0.25734757]\n",
      " [-4.33897328 -1.1248287   1.82876716  4.57229033  4.33897328  1.07134615]\n",
      " [ 0.          0.          0.          0.          0.          1.44814798]]\n",
      "[[ 4.33897328  1.07134615 -1.89545066 -4.61211879 -4.33897328 -1.07134615]\n",
      " [ 1.07134615  1.44814798  0.96793031 -0.32403107 -1.1248287  -1.44814798]\n",
      " [-1.89545066  0.96793031  2.61838448  3.03063506  1.82876716 -1.00775878]\n",
      " [-4.61211879 -0.32403107  3.03063506  5.50920979  4.57229033  0.25734757]\n",
      " [-4.33897328 -1.1248287   1.82876716  4.57229033  4.33897328  1.07134615]\n",
      " [-1.07134615 -1.44814798 -1.00775878  0.25734757  1.07134615  1.44814798]]\n"
     ]
    },
    {
     "ename": "IndexError",
     "evalue": "index 6 is out of bounds for axis 1 with size 6",
     "output_type": "error",
     "traceback": [
      "\u001b[1;31m---------------------------------------------------------------------------\u001b[0m",
      "\u001b[1;31mIndexError\u001b[0m                                Traceback (most recent call last)",
      "\u001b[1;32m<ipython-input-79-8b67590e0b48>\u001b[0m in \u001b[0;36m<module>\u001b[1;34m\u001b[0m\n\u001b[0;32m     73\u001b[0m \u001b[0mx_vec\u001b[0m \u001b[1;33m=\u001b[0m \u001b[0mx\u001b[0m\u001b[1;33m\u001b[0m\u001b[1;33m\u001b[0m\u001b[0m\n\u001b[0;32m     74\u001b[0m \u001b[0mtol\u001b[0m \u001b[1;33m=\u001b[0m \u001b[1;36m1e-12\u001b[0m\u001b[1;33m\u001b[0m\u001b[1;33m\u001b[0m\u001b[0m\n\u001b[1;32m---> 75\u001b[1;33m \u001b[0mcheby_dav_eigh\u001b[0m\u001b[1;33m(\u001b[0m\u001b[0mA\u001b[0m\u001b[1;33m,\u001b[0m \u001b[0mx_vec\u001b[0m\u001b[1;33m,\u001b[0m \u001b[0mm\u001b[0m\u001b[1;33m,\u001b[0m \u001b[1;36m2\u001b[0m\u001b[1;33m,\u001b[0m \u001b[1;36m5\u001b[0m\u001b[1;33m,\u001b[0m \u001b[0mtol\u001b[0m\u001b[1;33m)\u001b[0m\u001b[1;33m\u001b[0m\u001b[1;33m\u001b[0m\u001b[0m\n\u001b[0m",
      "\u001b[1;32m<ipython-input-79-8b67590e0b48>\u001b[0m in \u001b[0;36mcheby_dav_eigh\u001b[1;34m(A, x_vec, m, k_keep, dim_max, tol)\u001b[0m\n\u001b[0;32m     44\u001b[0m             \u001b[0mt\u001b[0m \u001b[1;33m=\u001b[0m \u001b[0mt\u001b[0m \u001b[1;33m-\u001b[0m \u001b[0mv\u001b[0m \u001b[1;33m*\u001b[0m \u001b[0mnp\u001b[0m\u001b[1;33m.\u001b[0m\u001b[0mdot\u001b[0m\u001b[1;33m(\u001b[0m\u001b[0mv\u001b[0m\u001b[1;33m.\u001b[0m\u001b[0mT\u001b[0m\u001b[1;33m,\u001b[0m \u001b[0mt\u001b[0m\u001b[1;33m)\u001b[0m\u001b[1;33m[\u001b[0m\u001b[1;36m0\u001b[0m\u001b[1;33m]\u001b[0m\u001b[1;33m[\u001b[0m\u001b[1;36m0\u001b[0m\u001b[1;33m]\u001b[0m\u001b[1;33m/\u001b[0m\u001b[0mnp\u001b[0m\u001b[1;33m.\u001b[0m\u001b[0mdot\u001b[0m\u001b[1;33m(\u001b[0m\u001b[0mv\u001b[0m\u001b[1;33m.\u001b[0m\u001b[0mT\u001b[0m\u001b[1;33m,\u001b[0m\u001b[0mv\u001b[0m\u001b[1;33m)\u001b[0m\u001b[1;33m\u001b[0m\u001b[1;33m\u001b[0m\u001b[0m\n\u001b[0;32m     45\u001b[0m         \u001b[0mt\u001b[0m \u001b[1;33m=\u001b[0m \u001b[0mt\u001b[0m\u001b[1;33m/\u001b[0m\u001b[0mla\u001b[0m\u001b[1;33m.\u001b[0m\u001b[0mnorm\u001b[0m\u001b[1;33m(\u001b[0m\u001b[0mt\u001b[0m\u001b[1;33m)\u001b[0m\u001b[1;33m\u001b[0m\u001b[1;33m\u001b[0m\u001b[0m\n\u001b[1;32m---> 46\u001b[1;33m         \u001b[0mV\u001b[0m\u001b[1;33m[\u001b[0m\u001b[1;33m:\u001b[0m\u001b[1;33m,\u001b[0m\u001b[0mksub\u001b[0m\u001b[1;33m+\u001b[0m\u001b[1;36m1\u001b[0m\u001b[1;33m]\u001b[0m \u001b[1;33m=\u001b[0m \u001b[0mt\u001b[0m\u001b[1;33m[\u001b[0m\u001b[1;33m:\u001b[0m\u001b[1;33m,\u001b[0m\u001b[1;36m0\u001b[0m\u001b[1;33m]\u001b[0m\u001b[1;33m\u001b[0m\u001b[1;33m\u001b[0m\u001b[0m\n\u001b[0m\u001b[0;32m     47\u001b[0m         \u001b[0mkold\u001b[0m \u001b[1;33m=\u001b[0m \u001b[0mksub\u001b[0m\u001b[1;33m\u001b[0m\u001b[1;33m\u001b[0m\u001b[0m\n\u001b[0;32m     48\u001b[0m         \u001b[0mksub\u001b[0m \u001b[1;33m=\u001b[0m \u001b[0mksub\u001b[0m \u001b[1;33m+\u001b[0m \u001b[1;36m1\u001b[0m\u001b[1;33m;\u001b[0m\u001b[1;33m\u001b[0m\u001b[1;33m\u001b[0m\u001b[0m\n",
      "\u001b[1;31mIndexError\u001b[0m: index 6 is out of bounds for axis 1 with size 6"
     ]
    }
   ],
   "source": [
    "def cheby_dav_eigh(A, x_vec, m, k_keep, dim_max, tol):\n",
    "    eig_val = []\n",
    "    kc = 0\n",
    "    iter_max = 10#0000\n",
    "\n",
    "    V = np.zeros(A.shape,dtype=float)\n",
    "    W = np.zeros(A.shape,dtype=float)\n",
    "    H = np.zeros(A.shape,dtype=float)\n",
    "    \n",
    "    x = x_vec/la.norm(x_vec)\n",
    "    x_arr = np.array(x)\n",
    "    V[:,0] = x[:,0]\n",
    "    w = np.dot(A,x)\n",
    "    W[:,0] = w[:,0]\n",
    "    \n",
    "    mu = np.dot(x.T,w)[0,0]\n",
    "    H[0,0] = mu\n",
    "\n",
    "    r = W[:,0] - mu*x\n",
    "    \n",
    "    if la.norm(r) <= tol:\n",
    "        eig_val[0] = mu\n",
    "        kc = 1\n",
    "        H = np.array([])\n",
    "    else:\n",
    "        kc= 0\n",
    "    #print('H',H)\n",
    "    \n",
    "    #TODO: esimate upper bound of eigenvalues\n",
    "    upperb = 10\n",
    "    lowerb = (upperb+mu)/2\n",
    "    a0 = lowerb\n",
    "    \n",
    "    ksub = 0\n",
    "    iter = 0\n",
    "    while iter <= iter_max:\n",
    "        iter+=1\n",
    "        t = chebyshev_filter(A, x, m, lowerb, upperb, a0)\n",
    "        \n",
    "        #orthogonalize t against first k_sub columns of V by householder\n",
    "        for c in range(ksub):\n",
    "            v  = V[:,c]\n",
    "            v = v.reshape(v.size,1)\n",
    "            t = t - v * np.dot(v.T, t)[0][0]/np.dot(v.T,v)\n",
    "        t = t/la.norm(t)\n",
    "        V[:,ksub+1] = t[:,0]\n",
    "        kold = ksub\n",
    "        ksub = ksub + 1;\n",
    "        W[:,ksub] = A @ V [:, ksub]\n",
    "        H[0 : ksub - kc+1, ksub - kc] = V[:, kc : ksub+1].T @ W[:, ksub]\n",
    "        H[ksub - kc, 0 : ksub - kc+1] = H[0 : ksub - kc+1, ksub - kc].T\n",
    "        \n",
    "    #5. Compute the eigen-decomposition of H: HY = Y D,\n",
    "    #    where diag(D) is in non-increasing order. Set μ = D(1, 1).\n",
    "    #6. If (ksub ≥ dimmax) then restart: set ksub = kc + kkeep.\n",
    "    #7. Update basis: V (:, kc + 1 : ksub) ← V (:, kc + 1 : kold)Y (:, 1 : ksub − kc);\n",
    "    #    update W: W(:, kc + 1 : ksub) ← W(:, kc + 1 : kold)Y (:, 1 : ksub − kc).\n",
    "    #8. Compute the residual vector: r = W(:, kc + 1) − μV (:, kc + 1).\n",
    "    #9. Set noswap = 0, iter ← iter + 1.\n",
    "    #10. Test for convergence: If norm(r) <= tau * max(diag(D)), set kc = kc + 1,\n",
    "    #    set eval(kc) = μ; also swap eigenpairs if necessary (see Comment v)\n",
    "    #    so that converged eigenvalues are in non-increasing order;\n",
    "    #    set noswap = 1 if any swap happens.\n",
    "    #11. If (kc ≥ kwant and noswap == 0), Return eval(1 : kc) and V (:, 1 : kc)\n",
    "    #    as the converged wanted eigenpairs. Exit.\n",
    "    #12. Update lower bounds: lowerb = median(diag(D));\n",
    "    #    If a0 > min(diag(D)), set a0 ← min(diag(D)).\n",
    "    #13. Set the next Ritz vector for filtering: x = V (:, kc + 1).\n",
    "    #14. Update H: H = D(kc + 1 : ksub, kc + 1 : ksub).\n",
    "        \n",
    "x_vec = x\n",
    "tol = 1e-12\n",
    "cheby_dav_eigh(A, x_vec, m, 2, 5, tol)"
   ]
  },
  {
   "cell_type": "code",
   "execution_count": 26,
   "metadata": {},
   "outputs": [
    {
     "data": {
      "text/plain": [
       "array([[1, 0, 0, 0, 0, 0, 0],\n",
       "       [0, 2, 0, 0, 0, 0, 0],\n",
       "       [0, 0, 3, 0, 0, 0, 0],\n",
       "       [0, 0, 0, 4, 0, 0, 0],\n",
       "       [0, 0, 0, 0, 5, 0, 0],\n",
       "       [0, 0, 0, 0, 0, 6, 0]])"
      ]
     },
     "execution_count": 26,
     "metadata": {},
     "output_type": "execute_result"
    }
   ],
   "source": [
    "B=A\n",
    "padB = [[0],[0],[0],[0],[0],[0]]\n",
    "np.pad(B, ((0,0),(0,1)), 'constant', constant_values=0)"
   ]
  },
  {
   "cell_type": "code",
   "execution_count": null,
   "metadata": {},
   "outputs": [],
   "source": []
  },
  {
   "cell_type": "code",
   "execution_count": null,
   "metadata": {},
   "outputs": [],
   "source": []
  },
  {
   "cell_type": "code",
   "execution_count": null,
   "metadata": {},
   "outputs": [],
   "source": []
  },
  {
   "cell_type": "code",
   "execution_count": null,
   "metadata": {},
   "outputs": [],
   "source": []
  },
  {
   "cell_type": "code",
   "execution_count": null,
   "metadata": {},
   "outputs": [],
   "source": []
  },
  {
   "cell_type": "code",
   "execution_count": null,
   "metadata": {},
   "outputs": [],
   "source": []
  },
  {
   "cell_type": "code",
   "execution_count": null,
   "metadata": {},
   "outputs": [],
   "source": []
  },
  {
   "cell_type": "code",
   "execution_count": 55,
   "metadata": {},
   "outputs": [
    {
     "name": "stdout",
     "output_type": "stream",
     "text": [
      "[[0.80231364 0.51122494]\n",
      " [0.55727141 0.54403408]\n",
      " [0.98821887 0.34084358]\n",
      " [0.2798732  0.66829121]\n",
      " [0.93634563 0.19028284]\n",
      " [0.96706293 0.30129424]]\n",
      "[[0 1]\n",
      " [0 1]\n",
      " [3 0]\n",
      " [0 4]\n",
      " [0 0]\n",
      " [0 0]]\n",
      "[[2.96465661 1.02253073]\n",
      " [2.47907785 3.72842387]]\n"
     ]
    }
   ],
   "source": [
    "\n",
    "W=np.random.rand(6,2)\n",
    "print(W)\n",
    "print(A[:,2:4])\n",
    "print(A[:,2:4].T @ W)"
   ]
  },
  {
   "cell_type": "code",
   "execution_count": null,
   "metadata": {},
   "outputs": [],
   "source": [
    "A[:,]"
   ]
  },
  {
   "cell_type": "code",
   "execution_count": 54,
   "metadata": {},
   "outputs": [
    {
     "name": "stdout",
     "output_type": "stream",
     "text": [
      "[[1 0 0 0 0 0]\n",
      " [0 2 0 0 0 0]\n",
      " [0 0 3 0 0 0]\n",
      " [0 0 0 4 0 0]\n",
      " [0 0 0 0 5 0]\n",
      " [0 0 0 0 0 6]]\n"
     ]
    },
    {
     "data": {
      "text/plain": [
       "array([[1, 0, 0, 1, 0, 0],\n",
       "       [0, 2, 0, 1, 0, 0],\n",
       "       [0, 0, 3, 0, 0, 0],\n",
       "       [0, 0, 0, 4, 0, 0],\n",
       "       [0, 0, 0, 0, 5, 0],\n",
       "       [0, 0, 0, 0, 0, 6]])"
      ]
     },
     "execution_count": 54,
     "metadata": {},
     "output_type": "execute_result"
    }
   ],
   "source": [
    "B=A\n",
    "print(B)\n",
    "B[0:2,3] = np.array([1, 1])\n",
    "B"
   ]
  },
  {
   "cell_type": "code",
   "execution_count": null,
   "metadata": {},
   "outputs": [],
   "source": [
    "t = x\n",
    "for c in range(A.shape[1]):\n",
    "    v = A[:,c].T\n",
    "    v = v.reshape(v.size,1)\n",
    "    t = t - v * np.dot(v.T, t)[0][0]/np.dot(v.T,v)\n",
    "    print('dot product',np.dot(v.T,t)[0][0])"
   ]
  },
  {
   "cell_type": "code",
   "execution_count": null,
   "metadata": {},
   "outputs": [],
   "source": [
    "linalg.norm(x)"
   ]
  },
  {
   "cell_type": "code",
   "execution_count": null,
   "metadata": {},
   "outputs": [],
   "source": [
    "s = 0\n",
    "for a in x:\n",
    "    s += a[0]*a[0]\n",
    "np.sqrt(s)"
   ]
  },
  {
   "cell_type": "code",
   "execution_count": null,
   "metadata": {},
   "outputs": [],
   "source": [
    "W[:,0]"
   ]
  },
  {
   "cell_type": "code",
   "execution_count": null,
   "metadata": {},
   "outputs": [],
   "source": [
    "r"
   ]
  },
  {
   "cell_type": "code",
   "execution_count": null,
   "metadata": {},
   "outputs": [],
   "source": []
  }
 ],
 "metadata": {
  "kernelspec": {
   "display_name": "Python 3",
   "language": "python",
   "name": "python3"
  },
  "language_info": {
   "codemirror_mode": {
    "name": "ipython",
    "version": 3
   },
   "file_extension": ".py",
   "mimetype": "text/x-python",
   "name": "python",
   "nbconvert_exporter": "python",
   "pygments_lexer": "ipython3",
   "version": "3.7.3"
  }
 },
 "nbformat": 4,
 "nbformat_minor": 4
}
