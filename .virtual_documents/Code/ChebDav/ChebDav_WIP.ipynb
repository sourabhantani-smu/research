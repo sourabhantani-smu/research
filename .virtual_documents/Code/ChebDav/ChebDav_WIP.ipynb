import numpy as np 
from numpy import linalg as la


#generates nxm matrix of linearly independent columns of random integers
import numpy as np

def generate_linearly_independent_vectors(n):
    vectors = []
    for i in range(n):
        vector = np.random.randn(n)
        for j in range(i):
            vector -= np.dot(vector, vectors[j]) / np.dot(vectors[j], vectors[j]) * vectors[j]
        vectors.append(vector)
    return vectors

# Example usage:

vectors = generate_linearly_independent_vectors(7)
mat = np.matrix(vectors).transpose()
print(mat)
d = np.diag(np.random.randn(7))
print(d)


A = mat.dot(d).dot(la.inv(mat))
A


la.eigh(A)


    

x = np.matrix(np.random.randn(7)).transpose()
print(A)
print(x)


verbose = 0
def chebyshev_filter(x, m, a, b, a0, A):
    e = (b-a)/2
    c = (b+a)/2
    s = e/(a0-c)
    s1=s
    y = (np.dot(A,x) - c*x)*(s1/e)
    for i in range(1,m):
        s_new = 1/((2/s1)-s)
        y_new = (np.dot(A,y) - c*y)*(2*s_new/e)-((s*s_new)*x)
        x=y
        y=y_new
        s=s_new
    return y

def orthonormalize(v, M):
    v_ret = v
    for i in range(M.shape[1]):
        Mi = M[:,i]
        v_ret -= (np.dot(v_ret.transpose(), Mi) / np.dot(Mi.transpose(), Mi))[0,0] * Mi
        #print(v_ret)
        #print(i, v_ret.transpose().dot(Mi))
    v_ret = v_ret/la.norm(v_ret)
    return v_ret

def swapIfNeeded(eigVal, eigVec):
    try:
        mu = eigVal[-1]
        i = eigVal.shape[0]-1
        maxI = i
        while mu < eigVal[i-1]:
            i -= 1
        sortedIndex=list(range(i))+[maxI]+list(range(i,maxI))
        eigVecSortedIndex = sortedIndex
        if eigVec.shape[0]>eigVal.shape[0]:
            eigVecSortedIndex = np.append(sortedIndex,np.array(range(len(eigVal), eigVec.shape[1])))
        return eigVal[sortedIndex], eigVec[:,eigVecSortedIndex], i!=maxI
    except:
        print(eigVal.shape, eigVec.shape, mu, i, maxI, sortedIndex)
        raise Exception()
def orthonormalizeDGKS(v, M):
    vnorm = la.norm(v)
    v = v/vnorm
    vnew_norm = None
    eta = 1/np.sqrt(2)
    rndVecIter = 0
    dgksiter = 0
    tmpnorm = eta*vnorm
    while vnew_norm is None or vnew_norm < tmpnorm:
        v_tmp = M.transpose().dot(v) 
        tmpnorm = la.norm(v_tmp)
        v_new = v - M.dot(v_tmp)
        vnew_norm = la.norm(v_new)
        v_new = v_new/vnew_norm
        dgksiter += 1
        if dgksiter > 3:
            print("max dgks iter reached:", vnew_norm, eta*vnorm)
            if rndVecIter < 3:
                rndVecIter += 1
                v =  np.matrix(np.random.randn(v.shape[0])).transpose()
            else:
                raise Exception("DGKS could not orthornormalize after 3 iterations and 3 random vecotrs")
        else:
            v = v_new
    return v_new


def lanczos_upperb(A, k=4):
    dim = A.shape[0]
    if k == -1:
        k=dim
    T = np.matrix(np.zeros((k, k), dtype=float))

    v_arr = []
    v = np.matrix(np.random.randn(A.shape[0])).transpose()
    v = v/la.norm(v)
    w_prime = A.dot(v)
    a = v.transpose().dot(w_prime)[0,0]
    w_new = w_prime - a*v
    v_arr.append(v)
    T[0,0]=a
    for i in range(1,k):
        b=la.norm(w_new)
        if b!=0:
            v_new = w_new/b
            v_arr.append(v_new)
        else:
            v_arr = generate_linearly_independent_unit_vector(v_arr)
            v_new = np.matrix(v_arr[-1]).transpose()
        w_prime = A.dot(v_new)
        a = v_new.transpose().dot(w_prime)[0,0]
        w_new = w_prime - a*v_new - b*v
        v=v_new
        T[i,i] = a
        T[i-1, i] = b
        T[i,i-1] = b
    #print(la.eig(T[:i+1, :i+1]))
    max_eig = max(la.eig(T[:i+1, :i+1])[0])
    if b < 0.01:
        return max_eig+b*10
    elif b < 0.1:
        return max_eig+b*5
    else:
        return max_eig+b
    
    
def getUpperBound(A):
    nrm_1 = la.norm(A,1)
    return min(nrm_1, lanczos_upperb(A))
    
def cheb_dav(A, kwant, x = None, m=10, kkeep=None, maxdim=None, tol=1e-10, maxIter = 1e3):
    if x is None:
        x = np.matrix(np.random.randn(A.shape[0])).transpose()
    if kkeep is None:
        kkeep = kwant*2
    if maxdim is None:
        maxdim=kwant*4
        
    eigs = np.array([])
    x = x/la.norm(x)
    V = np.matrix(x)
    w = A.dot(x)
    W = np.matrix(w)
    mu = x.transpose().dot(w)[0,0]
    H = np.matrix(mu)
    
    #print("V",V)
    #print("W",W)
    #print("H",H)
    r = w - mu*x
    if la.norm(r,2) <= tol:
        eigs = np.append(eigs, mu)
        kc = 1
        H = np.empty((0,0))
    else:
        kc=0
    upperb = getUpperBound(A)
    lowerb = (upperb + mu)/2
    a0 = lowerb
    ksub = 0
    itercount=0
    while itercount < maxIter:
        if verbose > 0:
            print('Upperbound', upperb)
            print('Lowerbound', lowerb)
        t = chebyshev_filter(x,m,lowerb, upperb, a0, A)
        if verbose > 0:
            #print('t',t)
            print('V[:,0:ksub]',V[:,0:ksub].shape)
        v_knext = orthonormalizeDGKS(t,V[:,0:ksub+1])
        #print('v_knext',v_knext)
        V = np.column_stack([V, v_knext])
        if verbose > 0:
            print('V',V.shape)
        kold = ksub
        ksub += 1
        w_knext = A.dot(v_knext)
        W = np.column_stack([W,w_knext])
        if verbose > 0:
            print('W',W.shape)
            print('V[:,kc:ksub+1]',V[:,kc:ksub+1].shape)

        if verbose > 0:
            print('V', V.shape,'W', W.shape,'H', H.shape)
            print('kc:',kc, ',    ksub:',ksub, ',     kold:',kold)        
        #H=np.row_stack([H[:ksub-kc,:ksub-kc],np.zeros(ksub-kc)])
        H=np.row_stack([H,np.zeros(kold+1)])
        if verbose > 0:
            print('H',H.shape)
            print('kc:',kc, ',    ksub:',ksub)
        if kc>0:
            #print(np.zeros((kc,1)))
            #print(kc, ksub, V.shape, W.shape)
            #print(V[:,kc:ksub].transpose().dot(W[:,-1]))
            #temp=np.row_stack([np.zeros((kc,1)), V[:,kc:ksub].transpose().dot(W[:,-1])])
            #print(temp)
            H=np.column_stack([H,np.row_stack([np.zeros((kc,1)), V[:,kc:ksub+1].transpose().dot(w_knext)])])
            #H=np.column_stack([H,V[:,kc:ksub+1].transpose().dot(w_knext)])
        else:
            H=np.column_stack([H,V[:,kc:ksub+1].transpose().dot(w_knext)])
        for i in range(H.shape[0]-1):
            H[-1,i]=H[i,-1]
        #display(H)
        if verbose > 0:
            print('V', V.shape)
            print('W', W.shape)
            print('H', H.shape)
        D,Y = la.eigh(H[kc:ksub+1, kc:ksub+1])
        #display(D)
        if verbose > 0:
            print('Y',Y.shape)
            print('D',D.shape)
        mu = D[0]
        if ksub >= maxdim:
            print("INNER RESTART")
            ksub = kc+kkeep
            #H = H[:ksub, :ksub]
            #V = V[:,:ksub]
        if verbose > 0:
            print('kc',kc, '      kold',kold,'         ksub',ksub)
        if kc > 0:
            #print(V[:,:kc].shape)
            #print(np.zeros((kc,1)).shape)
            #print(V[:,kc:kold+1].shape, Y[:,:ksub-kc+1].shape)
            V = np.column_stack([V[:,:kc], V[:,kc:kold+2].dot(Y[:,:ksub-kc+1])])
            W = np.column_stack([W[:,:kc], W[:,kc:kold+2].dot(Y[:,:ksub-kc+1])])
        else:
            V = np.column_stack([V[:,:kc], V[:,kc:kold+2].dot(Y[:,:ksub-kc+1])])
            W = np.column_stack([W[:,:kc], W[:,kc:kold+2].dot(Y[:,:ksub-kc+1])])
        #print('H', H.shape ,', kc', kc, ', ksub', ksub,  ', kold', kold, ', D', D.shape)
        if kc>0:
            #print(np.row_stack([H[:kc,: kc],np.zeros((kold+2-kc,kc))]))
            #print(np.zeros((kc,kold+2-kc)))
            #print(np.diag(D))
            #display(H[:kc,:kc])
            #display(np.zeros((ksub+1-kc,kc)))
            #display(np.row_stack([np.zeros((kc,kold+2-kc)),np.diag(D)]))
            H = np.column_stack([np.row_stack([H[:kc,:kc],np.zeros((ksub+1-kc,kc))]),np.row_stack([np.zeros((kc,ksub+1-kc)),np.diag(D[:ksub-kc+1])])])
        else:
            H = np.diag(D[:ksub+1])
        #H = np.diag(D[kc:ksub+1])
        #if itercount>190:
        #    display(np.diag(H))
        r = W[:,kc]-mu*V[:,kc]
        if verbose > 0:
            print('V',V.shape)
            print('W',W.shape)
            print('2-norm r',la.norm(r,2))
        noswap = 0
        itercount +=1
        for conv_i in range(len(D)):
            if verbose >= 0:
                print(f'convergenceCheck: norm(r): {la.norm(r,2)}, {tol*max(D[conv_i:])}, V {V.shape}, W {W.shape}, H {H.shape}, norm(H) {la.norm(H,2)}') 
            if la.norm(r,2) <= tol*max(D[conv_i:]):
                kc += 1
                mu = D[conv_i]
                eigs = np.append(eigs,mu)
                print(f"CONVERGED: #{eigs.shape[0]}, in {itercount} steps:",mu)
                #display(D, V)
                ## SWAP TEST and set swap=True if swap happens
                swap = False
                if kc > 1:
                    eigs, V, swap = swapIfNeeded(eigs, V)
                    
                if kc >= kwant and not swap:
                    return eigs, V[:,:kc+1]
                mu = D[conv_i+1]
                if kc < V.shape[1]:
                    r = W[:,kc]-mu*V[:,kc]
            else:
                break
        lowerb = np.median(D[:ksub])
        if a0 > min(D):
            a0 = min(D)
        #print('V',V)
        x = V[:,kc]
        #Hnew = H[:kc,:kc]
        #Hnew = np.row_stack([Hnew,np.zeros((ksub+1-kc, kc))])
        #H = np.column_stack([Hnew,np.row_stack([np.zeros((kc, ksub+1-kc)), np.diag(D[kc:ksub+1])])])
        #H = np.diag(D)
        #print('H',H)
        #print('x',x)
        #print('#####')
        #break



x=[
[-0.418585086067677],
[-0.0742133634081641],
[-0.220601388702220],
[-0.478973620534224],
[-0.414362446815140],
[-0.501860579504864],
[-0.342983850868761],
]


A=np.loadtxt(open("a.mat", "rb"), delimiter=",", skiprows=0)
A


print(A.shape)
cheb_dav(A,2)


eigVal_cd, eigVec_cd=cheb_dav(A,1000)
eigVal_cd


eigVal_np, eigVec_np = np.linalg.eigh(A)
#eigVal_np[:500]


max(eigVal_cd-eigVal_np)





moon_data, moon_labels = make_moons(1000, noise=0.05)




def makeHermitianIfBelowFloatErr(mat, to = 1e-14):
    for i in range(mat.shape[0]):
        for j in range(i, mat.shape[1]):
            if mat[i, j] != mat[j, i]:
                if abs(mat[i,j]) < 1e-14 and abs(mat[j,i]) < 1e-14:
                    mat[i,j]=0
                    mat[j,i]=0
                else:
                    print('not hermitian', i,j, mat[i,j], mat[j,i])
                    raise ValueError("Matrix Not Hermitian")
    return mat
    
B=np.loadtxt(open("l_rw.mat", "rb"), delimiter=",", skiprows=0)
B = makeHermitianIfBelowFloatErr(B)
B


for i in range(B.shape[0]):
    for j in range(B.shape[1]):
        if i != j:
            if abs(B[i,j])>0:
                print(i,j,B[i,j])



cheb_dav(B,2)


np.linalg.eigh(B)











from scipy.io import mmread
with open('../../DataSets/DrZhou/C6H6_FE1_A1.mm') as mmFile:
    c6h6fe1 = mmread(mmFile)
c6h6fe1


c6h6fe1 = c6h6fe1.todense()


kseigval, kseigvec = la.eigh(c6h6fe1)


cd_eVal, cd_eVec = cheb_dav(c6h6fe1, 50)


max(cd_eVal-kseigval[:50])








cheb_dav(A,x,2,10,2,20,1e-8, maxIter=1000)


def lanczos_upperb(A, k=4):
    dim = A.shape[0]
    if k == -1:
        k=dim
    T = np.matrix(np.zeros((k, k), dtype=float))

    v_arr = []
    v = np.matrix(np.random.randn(A.shape[0])).transpose()
    v=[
        [0.638530758271838],
        [0.0336038360664295],
        [0.0688060991180512],
        [0.319599735180496],
        [0.530864280694127],
        [0.654445707757066],
        [0.407619197041153],
    ]
    #print(v)
    v = v/la.norm(v)
    #print(v)
    w_prime = A.dot(v)
    print(w_prime)
    a = v.transpose().dot(w_prime)[0,0]
    w_new = w_prime - a*v
    print(a)
    print(w_new)
    v_arr.append(v)
    T[0,0]=a
    for i in range(1,k):
        print('###',i,'###')
        b=la.norm(w_new)
        if b!=0:
            v_new = w_new/b
            v_arr.append(v_new)
        else:
            v_arr = generate_linearly_independent_unit_vector(v_arr)
            v_new = np.matrix(v_arr[-1]).transpose()
        print(v_new)
        w_prime = A.dot(v_new)
        a = v_new.transpose().dot(w_prime)[0,0]
        w_new = w_prime - a*v_new - b*v
        v=v_new
        T[i,i] = a
        T[i-1, i] = b
        T[i,i-1] = b
        print(T)
    print(la.eig(T[:i+1, :i+1]))
    max_eig = max(la.eig(T[:i+1, :i+1])[0])
    print(max_eig)
    if b < 0.01:
        return max_eig+b*10
    elif b < 0.1:
        return max_eig+b*5
    else:
        return max_eig+b
    
lanczos_upperb(A)


new_v = np.matrix([1.,4.,7.]).transpose() #np.random.randn(3,1)
print(new_v)

print('...')

def orthonormalize(v, M):
    v_ret = v
    for i in range(M.shape[1]):
        Mi = M[:,i]
        v_ret -= (np.dot(v_ret.transpose(), Mi) / np.dot(Mi.transpose(), Mi))[0,0] * Mi
        #print(v_ret)
        #print(i, v_ret.transpose().dot(Mi))
    v_ret = v_ret/la.norm(v_ret)
    return v_ret

i_mat = np.matrix(vectors[:2]).transpose()
print(i_mat)
print('...')
new_o = orthonormalize(new_v,i_mat)
print(new_o, la.norm(new_o))
for i in range(i_mat.shape[1]):
    print(i, new_o.transpose().dot(i_mat[:,i]))


print(la.norm(A,1))
print(lanczos_upperb(A))



 t=np.matrix([[ 6.43835349e-05],
 [-3.96485751e-04],
 [-2.35104412e-04],
 [-1.07602491e-04],
 [-1.29949466e-05],
 [ 2.64096212e-04],
 [-1.77118607e-05]])
V = np.matrix(
 [[ 0.12171921,  0.11258635,  0.22150586, -0.5882289, ],
 [ 0.45185628, -0.7292446,   0.04876305, -0.31499994,],
 [-0.56270083, -0.42271991, -0.54282242, -0.10219116,],
 [-0.35916062, -0.21453718, -0.04394181, -0.19083265,],
 [-0.57608596, -0.02490343,  0.64640014, -0.08381095,],
 [-0.03032699,  0.47930815, -0.43308796, -0.54120749,],
 [-0.05086255, -0.02125603,  0.21580533, -0.45603931,]])



def orthonormalizeDGKS(v, M):
    vnorm = la.norm(v)
    v = v/vnorm
    vnew_norm = None
    eta = 1/np.sqrt(2)
    rndVecIter = 0
    dgksiter = 0
    tmpnorm = eta*vnorm
    while vnew_norm is None or vnew_norm < tmpnorm:
        v_tmp = M.transpose().dot(v) 
        tmpnorm = la.norm(v_tmp)
        v_new = v - M.dot(v_tmp)
        vnew_norm = la.norm(v_new)
        v_new = v_new/vnew_norm
        dgksiter += 1
        if dgksiter > 3:
            print("max dgks iter reached:", vnew_norm, eta*vnorm)
            if rndVecIter < 3:
                rndVecIter += 1
                v =  np.matrix(np.random.randn(v.shape[0])).transpose()
            else:
                raise Exception("DGKS could not orthornormalize after 3 iterations and 3 random vecotrs")
        else:
            v = v_new
    return v_new

orthonormalizeDGKS(t,V)


new_v = np.matrix([1.,4.,7.]).transpose() #np.random.randn(3,1)
print(new_v)

print('...')

def orthonormalizeDGKS(v, M):
    vnorm = la.norm(v)
    v = v/vnorm
    vnew_norm = None
    eta = 1/np.sqrt(2)
    while vnew_norm is None or vnew_norm > eta*vnorm:
        v_tmp = M.transpose().dot(v) 
        v_new = v - M.dot(v_tmp)
        vnew_norm = la.norm(v_new)
        v_new = v_new/vnew_norm
    return v_new
i_mat = np.matrix([vectors[0]/la.norm(vectors[0]), vectors[1]/la.norm(vectors[1])]).transpose()
print(i_mat)
print('...')
new_o = orthonormalizeDGKS(new_v,i_mat)
print(new_o, la.norm(new_o))
for i in range(i_mat.shape[1]):
    print(i, new_o.transpose().dot(i_mat[:,i]))


t= np.matrix([[-7.53310919e+14], [ 3.05016696e+14], [-6.89838912e+14]])
V = np.matrix([[-0.68380241], [-0.71031703], [-0.16692506]])
vnew=orthonormalizeDGKS(t,V)
print(vnew)
print(vnew.transpose().dot(V[:,0]))


np.diag([-1.73335869,  0.69919478])





la.eig(A)


chebyshev_filter(x,3,2,3,1,A)


np.zeros((3,3))A


la.eig(A)


[ 1.23870523; 0.10656613; 0.89699738]


[ 1.00876953, -0.10627912, -0.04640314;-0.10627912, -0.41766332,  0.43754262;-0.04640314,  0.43754262,  0.23099202]



vectors


_mat = np.matrix(vectors[0]).transpose()
_mat = np.column_stack([_mat, vectors[1]])
_mat = np.column_stack([_mat, vectors[2]])

_mat


A.shape[1]


def matlabFormat(mat):
    print('['+';'.join([','.join([str(A[i,j]) for j in range(A.shape[1])]) for i in range(mat.shape[0])])+']')

matlabFormat(A)
        


V=[[ 0.12171921  0.11258635  0.22150586 -0.5882289 ]
 [ 0.45185628 -0.7292446   0.04876305 -0.31499994]
 [-0.56270083 -0.42271991 -0.54282242 -0.10219116]
 [-0.35916062 -0.21453718 -0.04394181 -0.19083265]
 [-0.57608596 -0.02490343  0.64640014 -0.08381095]
 [-0.03032699  0.47930815 -0.43308796 -0.54120749]
 [-0.05086255 -0.02125603  0.21580533 -0.45603931]]


def matlabFormat(mat):
    for i in range(mat.shape[0]):


[ 0.0961773; 0.19336989;-0.6185988 ]


for a in A[0][0]:
    print(a[0])


np.empty((0,0))


from sklearn.datasets import make_moons
from scipy.spatial.distance import pdist, squareform


# Generate a toy dataset...
moon_data, moon_labels = make_moons(1000, noise=0.05)
# Compute the adjacency matrix
Adj_mat = squareform(pdist(moon_data, metric='euclidean'))
W = np.exp(-Adj_mat/(2))
D = np.diag(np.sum(W, axis=1))
L = D - W
D_inv = np.diag(1/np.diag(D))
A = np.dot(D_inv, L)



for i in range(A.shape[0]):
    for j in range(i+1,A.shape[0]):
        A[j][i] = A[i][j]





np.linalg.eigh(A)





cheb_dav(A,2)


A


with open('a.mat','wt') as f:
    for i in range(A.shape[0]):
        if i>0:
            f.write('\n')
        for j in range(A.shape[1]):
            if j>0:
                f.write(',')
            f.write(str(A[i][j]))
        


pwd()





_e = np.array([1,2,4,5,3])
_e = np.array([1,2,3,4,6])
_v = np.matrix([[1,0,0,0,0,0,0], [0,1,0,0,0,0,0], [0,0,1,0,0,0,0], [0,0,0,1,0,0,0], [0,0,0,0,1,0,0], [0,0,0,0,0,1,0], [0,0,0,0,0,0,1]])
display(_e, _v)


def swapIfNeeded(eigVal, eigVec):
    try:
        mu = eigVal[-1]
        i = eigVal.shape[0]-1
        maxI = i
        while mu < eigVal[i-1]:
            i -= 1
        sortedIndex=list(range(i))+[maxI]+list(range(i,maxI))
        eigVecSortedIndex = sortedIndex
        if eigVec.shape[0]>eigVal.shape[0]:
            eigVecSortedIndex = np.append(sortedIndex,np.array(range(len(eigVal), eigVec.shape[1])))
        return eigVal[sortedIndex], eigVec[:,eigVecSortedIndex], i!=maxI
    except:
        print(eigVal.shape, eigVec.shape, mu, i, maxI, sortedIndex)
        raise Exception()

_e = np.array([1,2,3,4,6,5])

_e, _v, swap = swapIfNeeded(_e, _v)
display(_e, _v, swap)


mu = _e[-1]
i = _e.shape[0]-1
maxI = i
print(i)
while mu < _e[i-1]:
    print(i)
    i -= 1
sortedIndex=list(range(i))+[maxI]+list(range(i,maxI))
sortedIndex


list(np.array(_e)[np.argsort(_e)])


_v[:,np.argsort(_e)]


sortIndex = np.argsort(np.array([10, 111, 2, 54, 8]))
any(sortIndex!=range(len(sortIndex)))


np.append(sortIndex, np.array(range(len(_e),_v.shape[1])))


_v.


_e.shape[0]


_e


_e[-1]











































