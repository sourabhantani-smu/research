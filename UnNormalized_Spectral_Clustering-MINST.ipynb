{
 "cells": [
  {
   "cell_type": "code",
   "execution_count": 29,
   "metadata": {},
   "outputs": [],
   "source": [
    "import scipy as sp\n",
    "import scipy.linalg as linalg\n",
    "from sklearn.cluster import KMeans\n",
    "import spectral_clustering_helper as scplot\n",
    "import numpy as np\n",
    "import pandas as pd\n",
    "import matplotlib.pyplot as plt"
   ]
  },
  {
   "cell_type": "code",
   "execution_count": 117,
   "metadata": {},
   "outputs": [],
   "source": [
    "########################\n",
    "#       Setup etc      #\n",
    "########################\n",
    "\n",
    "k=10\n",
    "\n",
    "#Functions \n",
    "def similarity(x,y):\n",
    "    #return 1000/(linalg.norm((x-y),2))\n",
    "    return linalg.norm(np.multiply(x,y), ord=0)\n",
    "data = pd.read_csv(\"DataSets/MINST.txt\", header=None, delim_whitespace=True)\n",
    "x_list = []\n",
    "for i, row in data.iterrows():\n",
    "    x_list.append(np.array(row))\n",
    "\n",
    "##x_list = sp.concatenate([sp.random.normal(c,dist_sd,dist_cnt) for c in dist_centers])"
   ]
  },
  {
   "cell_type": "raw",
   "metadata": {},
   "source": [
    "v1 = x_list[4]\n",
    "#for i in range(1,data.shape)\n",
    "v2 = x_list[6]\n",
    "\n",
    "print(type(v1), type(v2))"
   ]
  },
  {
   "cell_type": "code",
   "execution_count": 118,
   "metadata": {},
   "outputs": [
    {
     "data": {
      "image/png": "[encoded data removed]",
      "text/plain": [
       "<Figure size 432x288 with 1 Axes>"
      ]
     },
     "metadata": {
      "needs_background": "light"
     },
     "output_type": "display_data"
    },
    {
     "name": "stdout",
     "output_type": "stream",
     "text": [
      "67.0\n"
     ]
    },
    {
     "data": {
      "image/png": "[encoded data removed]",
      "text/plain": [
       "<Figure size 432x288 with 1 Axes>"
      ]
     },
     "metadata": {
      "needs_background": "light"
     },
     "output_type": "display_data"
    }
   ],
   "source": [
    "v1 = x_list[13]\n",
    "distdict = {}\n",
    "for i in range(1,len(x_list)):\n",
    "    v2 = x_list[i]\n",
    "    dist = linalg.norm((v1-v2),2)\n",
    "    if dist not in distdict.keys():\n",
    "        distdict[dist] = [i]\n",
    "    else:\n",
    "        distdict[dist].append(i)\n",
    "\n",
    "plt.imshow(x_list[4].reshape((28, 28)))\n",
    "plt.show()\n",
    "plt.imshow(x_list[6].reshape((28, 28)))\n",
    "print(similarity(x_list[4],x_list[6]))"
   ]
  },
  {
   "cell_type": "code",
   "execution_count": 119,
   "metadata": {
    "scrolled": false
   },
   "outputs": [
    {
     "data": {
      "image/png": "[encoded data removed]",
      "text/plain": [
       "<Figure size 432x288 with 10 Axes>"
      ]
     },
     "metadata": {
      "needs_background": "light"
     },
     "output_type": "display_data"
    }
   ],
   "source": [
    "closest = []\n",
    "sortedist =  sorted (distdict.keys())\n",
    "i = -1\n",
    "while len(closest) < 10:\n",
    "    i += 1\n",
    "    closest += distdict[sortedist[i]]\n",
    "closest\n",
    "\n",
    "fig, ax = plt.subplots(1,10)\n",
    "idx = 0\n",
    "for i in closest:\n",
    "    ax[idx].imshow(x_list[i].reshape((28, 28)))\n",
    "    idx+=1\n",
    "plt.show()"
   ]
  },
  {
   "cell_type": "code",
   "execution_count": 120,
   "metadata": {
    "scrolled": false
   },
   "outputs": [],
   "source": [
    "L_full,W_full,D_full = scplot.createMatrices(x_list[1:100], similarity)\n",
    "\n",
    "L=L_full\n",
    "W=W_full\n",
    "D=D_full\n",
    "#Plot L,D and W\n",
    "#scplot.plot_matrix(W_full, \"W - Weight Matrix\")\n",
    "#scplot.plot_matrix(D_full,\"D - Degree Matrix\")\n",
    "#scplot.plot_matrix(L_full,\"L - Graph Laplacian (L=D-W)\")"
   ]
  },
  {
   "cell_type": "code",
   "execution_count": 100,
   "metadata": {},
   "outputs": [
    {
     "name": "stdout",
     "output_type": "stream",
     "text": [
      "Cutoff:  3963805.48\n",
      "Cutoff 3963805.48\n"
     ]
    }
   ],
   "source": [
    "\n",
    "\n",
    "L,W,D,cutoff = scplot.convertToEpsilonNeighborhoodGraphByPercentile(W_full, .96)\n",
    "\n",
    "print(\"Cutoff\",cutoff)\n",
    "#Plot L,D and W\n",
    "#scplot.plot_matrix(W, \"W - Weight Matrix\")\n",
    "#scplot.plot_matrix(D,\"D - Degree Matrix\")\n",
    "#scplot.plot_matrix(L,\"L - Graph Laplacian (L=D-W)\")"
   ]
  },
  {
   "cell_type": "code",
   "execution_count": 121,
   "metadata": {},
   "outputs": [
    {
     "name": "stdout",
     "output_type": "stream",
     "text": [
      "multiplicity of zero eigenvalue 0\n"
     ]
    }
   ],
   "source": [
    "e_val,e_vec = linalg.eigh(L)\n",
    "zeroCount = 0\n",
    "for e in e_val:\n",
    "    if(abs(e)<1e-12):\n",
    "        zeroCount +=1\n",
    "print(\"multiplicity of zero eigenvalue\",zeroCount)\n",
    "k=zeroCount"
   ]
  },
  {
   "cell_type": "code",
   "execution_count": 122,
   "metadata": {},
   "outputs": [],
   "source": [
    "########################\n",
    "#       Clustering     #\n",
    "########################\n",
    "\n",
    "# eigen values and clustering\n",
    "e_val,e_vec = linalg.eigh(L)\n",
    "km10 = KMeans(n_clusters=10).fit(e_vec[:,0:10])\n",
    "#km = KMeans(n_clusters=k).fit(e_vec[:,0:k+4])\n",
    "#km = KMeans(n_clusters=k).fit(e_vec)\n",
    "\n",
    "#print(\"Output of KMeans Clustering\")\n",
    "#display(km.cluster_centers_)\n",
    "#display(km.labels_)"
   ]
  },
  {
   "cell_type": "code",
   "execution_count": 123,
   "metadata": {
    "scrolled": false
   },
   "outputs": [
    {
     "name": "stdout",
     "output_type": "stream",
     "text": [
      "99\n",
      "[0 2 0 0 0 0 0 0 0 0 0 0 0 9 0 0 0 0 0 0 0 0 0 0 0 0 0 0 5 0 8 0 0 0 0 0 0\n",
      " 0 0 1 0 0 7 0 0 0 0 0 0 0 0 0 0 0 0 0 4 0 6 0 0 0 0 0 0 0 0 0 0 0 0 0 0 0\n",
      " 0 0 0 0 0 0 0 0 0 0 0 0 0 0 0 0 0 0 0 0 0 3 0 0 0]\n",
      "==============\n",
      " 0 =============\n",
      "\n",
      "90\n"
     ]
    },
    {
     "data": {
      "image/png": "[encoded data removed]",
      "text/plain": [
       "<Figure size 432x288 with 10 Axes>"
      ]
     },
     "metadata": {
      "needs_background": "light"
     },
     "output_type": "display_data"
    },
    {
     "name": "stdout",
     "output_type": "stream",
     "text": [
      "==============\n",
      " 2 =============\n",
      "\n"
     ]
    },
    {
     "data": {
      "image/png": "[encoded data removed]",
      "text/plain": [
       "<Figure size 432x288 with 1 Axes>"
      ]
     },
     "metadata": {
      "needs_background": "light"
     },
     "output_type": "display_data"
    },
    {
     "name": "stdout",
     "output_type": "stream",
     "text": [
      "==============\n",
      " 9 =============\n",
      "\n"
     ]
    },
    {
     "data": {
      "image/png": "[encoded data removed]",
      "text/plain": [
       "<Figure size 432x288 with 1 Axes>"
      ]
     },
     "metadata": {
      "needs_background": "light"
     },
     "output_type": "display_data"
    },
    {
     "name": "stdout",
     "output_type": "stream",
     "text": [
      "==============\n",
      " 5 =============\n",
      "\n"
     ]
    },
    {
     "data": {
      "image/png": "[encoded data removed]",
      "text/plain": [
       "<Figure size 432x288 with 1 Axes>"
      ]
     },
     "metadata": {
      "needs_background": "light"
     },
     "output_type": "display_data"
    },
    {
     "name": "stdout",
     "output_type": "stream",
     "text": [
      "==============\n",
      " 8 =============\n",
      "\n"
     ]
    },
    {
     "data": {
      "image/png": "[encoded data removed]",
      "text/plain": [
       "<Figure size 432x288 with 1 Axes>"
      ]
     },
     "metadata": {
      "needs_background": "light"
     },
     "output_type": "display_data"
    },
    {
     "name": "stdout",
     "output_type": "stream",
     "text": [
      "==============\n",
      " 1 =============\n",
      "\n"
     ]
    },
    {
     "data": {
      "image/png": "[encoded data removed]",
      "text/plain": [
       "<Figure size 432x288 with 1 Axes>"
      ]
     },
     "metadata": {
      "needs_background": "light"
     },
     "output_type": "display_data"
    },
    {
     "name": "stdout",
     "output_type": "stream",
     "text": [
      "==============\n",
      " 7 =============\n",
      "\n"
     ]
    },
    {
     "data": {
      "image/png": "[encoded data removed]",
      "text/plain": [
       "<Figure size 432x288 with 1 Axes>"
      ]
     },
     "metadata": {
      "needs_background": "light"
     },
     "output_type": "display_data"
    },
    {
     "name": "stdout",
     "output_type": "stream",
     "text": [
      "==============\n",
      " 4 =============\n",
      "\n"
     ]
    },
    {
     "data": {
      "image/png": "[encoded data removed]",
      "text/plain": [
       "<Figure size 432x288 with 1 Axes>"
      ]
     },
     "metadata": {
      "needs_background": "light"
     },
     "output_type": "display_data"
    },
    {
     "name": "stdout",
     "output_type": "stream",
     "text": [
      "==============\n",
      " 6 =============\n",
      "\n"
     ]
    },
    {
     "data": {
      "image/png": "[encoded data removed]",
      "text/plain": [
       "<Figure size 432x288 with 1 Axes>"
      ]
     },
     "metadata": {
      "needs_background": "light"
     },
     "output_type": "display_data"
    },
    {
     "name": "stdout",
     "output_type": "stream",
     "text": [
      "==============\n",
      " 3 =============\n",
      "\n"
     ]
    },
    {
     "data": {
      "image/png": "[encoded data removed]",
      "text/plain": [
       "<Figure size 432x288 with 1 Axes>"
      ]
     },
     "metadata": {
      "needs_background": "light"
     },
     "output_type": "display_data"
    }
   ],
   "source": [
    "imdict = {}\n",
    "i = -1;\n",
    "for l in km10.labels_:\n",
    "    i+=1\n",
    "    if l not in imdict.keys():\n",
    "        imdict[l] = [x_list[i]]\n",
    "    else:\n",
    "        imdict[l].append(x_list[i])\n",
    "    \n",
    "print(len(km10.labels_))\n",
    "print(km10.labels_)\n",
    "\n",
    "for k in imdict.keys():\n",
    "    print('==============\\n',k,'=============\\n')\n",
    "    if len(imdict[k]) == 1:\n",
    "        plt.imshow(imdict[k][0].reshape((28, 28)))\n",
    "    else:\n",
    "        fig, ax = plt.subplots(1, min(10, len(imdict[k])))\n",
    "        print(len(imdict[k]))\n",
    "        for a in range(0,len(ax)):\n",
    "            ax[a].imshow(imdict[k][a].reshape((28, 28)))\n",
    "            a+=1\n",
    "    plt.show()\n",
    "    plt.close()"
   ]
  },
  {
   "cell_type": "code",
   "execution_count": 70,
   "metadata": {},
   "outputs": [
    {
     "ename": "NameError",
     "evalue": "name 'x' is not defined",
     "output_type": "error",
     "traceback": [
      "\u001b[1;31m---------------------------------------------------------------------------\u001b[0m",
      "\u001b[1;31mNameError\u001b[0m                                 Traceback (most recent call last)",
      "\u001b[1;32m<ipython-input-70-e074a6a8b1a4>\u001b[0m in \u001b[0;36m<module>\u001b[1;34m\u001b[0m\n\u001b[0;32m      4\u001b[0m \u001b[0mfigure\u001b[0m \u001b[1;33m=\u001b[0m \u001b[0mplt\u001b[0m\u001b[1;33m.\u001b[0m\u001b[0mfigure\u001b[0m\u001b[1;33m(\u001b[0m\u001b[0mfigsize\u001b[0m\u001b[1;33m=\u001b[0m\u001b[1;33m(\u001b[0m\u001b[1;36m20\u001b[0m\u001b[1;33m,\u001b[0m\u001b[1;36m20\u001b[0m\u001b[1;33m)\u001b[0m\u001b[1;33m)\u001b[0m\u001b[1;33m\u001b[0m\u001b[1;33m\u001b[0m\u001b[0m\n\u001b[0;32m      5\u001b[0m \u001b[0mplt\u001b[0m\u001b[1;33m.\u001b[0m\u001b[0msubplot\u001b[0m\u001b[1;33m(\u001b[0m\u001b[1;36m2\u001b[0m\u001b[1;33m,\u001b[0m\u001b[1;36m2\u001b[0m\u001b[1;33m,\u001b[0m\u001b[1;36m1\u001b[0m\u001b[1;33m)\u001b[0m\u001b[1;33m\u001b[0m\u001b[1;33m\u001b[0m\u001b[0m\n\u001b[1;32m----> 6\u001b[1;33m \u001b[0mplt\u001b[0m\u001b[1;33m.\u001b[0m\u001b[0mscatter\u001b[0m\u001b[1;33m(\u001b[0m\u001b[0mx\u001b[0m\u001b[1;33m,\u001b[0m\u001b[0my\u001b[0m\u001b[1;33m,\u001b[0m\u001b[0mc\u001b[0m\u001b[1;33m=\u001b[0m\u001b[0mkm5\u001b[0m\u001b[1;33m.\u001b[0m\u001b[0mlabels_\u001b[0m\u001b[1;33m,\u001b[0m \u001b[0mcmap\u001b[0m\u001b[1;33m=\u001b[0m\u001b[1;34m'tab10'\u001b[0m\u001b[1;33m)\u001b[0m\u001b[1;33m\u001b[0m\u001b[1;33m\u001b[0m\u001b[0m\n\u001b[0m\u001b[0;32m      7\u001b[0m \u001b[0mplt\u001b[0m\u001b[1;33m.\u001b[0m\u001b[0mtitle\u001b[0m\u001b[1;33m(\u001b[0m\u001b[1;34m\"Clustering output with 5 clusters\"\u001b[0m\u001b[1;33m)\u001b[0m\u001b[1;33m\u001b[0m\u001b[1;33m\u001b[0m\u001b[0m\n\u001b[0;32m      8\u001b[0m \u001b[1;33m\u001b[0m\u001b[0m\n",
      "\u001b[1;31mNameError\u001b[0m: name 'x' is not defined"
     ]
    },
    {
     "data": {
      "image/png": "[encoded data removed]",
      "text/plain": [
       "<Figure size 1440x1440 with 1 Axes>"
      ]
     },
     "metadata": {
      "needs_background": "light"
     },
     "output_type": "display_data"
    }
   ],
   "source": [
    "from matplotlib import pyplot as plt\n",
    "from mpl_toolkits.axes_grid1 import make_axes_locatable\n",
    "\n",
    "figure = plt.figure(figsize=(20,20))\n",
    "plt.subplot(2,2,1)\n",
    "plt.scatter(x,y,c=km5.labels_, cmap='tab10')\n",
    "plt.title(\"Clustering output with 5 clusters\")\n",
    "\n",
    "plt.subplot(2,2,2)\n",
    "plt.scatter(x,y,c=km8.labels_, cmap='tab10')\n",
    "plt.title(\"Clustering output with 8 clusters\")\n",
    "\n",
    "plt.subplot(2,2,3)\n",
    "plt.scatter(x,y,c=km9.labels_, cmap='tab10')\n",
    "plt.title(\"Clustering output with 9 clusters\")\n",
    "\n",
    "plt.subplot(2,2,4)\n",
    "plt.scatter(x,y,c=km10.labels_, cmap='tab10')\n",
    "plt.title(\"Clustering output with 10 clusters\")\n",
    "plt.show()\n",
    "figure.savefig(\"2DCluster.jpg\")\n",
    "plt.close()\n"
   ]
  },
  {
   "cell_type": "code",
   "execution_count": null,
   "metadata": {
    "scrolled": false
   },
   "outputs": [],
   "source": [
    "###########################\n",
    "# Outputs for Toy Example #\n",
    "###########################\n",
    "\n",
    "data_cluster = pd.DataFrame({'Data':x_list, 'Label':km.labels_})\n",
    "data_cluster_result = data_cluster.groupby('Label').Data.agg(['count','min','max']).reset_index()\n",
    "data_cluster_result.sort_values('min', inplace=True)\n",
    "\n",
    "#scplot.plot_histo(x_list)\n",
    "\n",
    "print(\"Cluster counts and Ranges:\")\n",
    "display(data_cluster_result)\n",
    "    \n",
    "scplot.plot_clusters(x_list,km.labels_,\"Clustering output with \"+str(k)+\" clusters\")"
   ]
  },
  {
   "cell_type": "markdown",
   "metadata": {},
   "source": [
    "Interesting observation:\n",
    "\n",
    "using the first 'k' eigen vectors is the sweet spot. using more vectors degrades the clustering by causing the clusters to be unbalanced and in extreme cases (e.g. using entire vector) the clustering seems to be wrong where one of 4 clusters overlaps the the union of other 3 "
   ]
  }
 ],
 "metadata": {
  "kernelspec": {
   "display_name": "Python 3",
   "language": "python",
   "name": "python3"
  },
  "language_info": {
   "codemirror_mode": {
    "name": "ipython",
    "version": 3
   },
   "file_extension": ".py",
   "mimetype": "text/x-python",
   "name": "python",
   "nbconvert_exporter": "python",
   "pygments_lexer": "ipython3",
   "version": "3.7.3"
  }
 },
 "nbformat": 4,
 "nbformat_minor": 2
}
